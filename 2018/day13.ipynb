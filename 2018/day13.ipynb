{
 "cells": [
  {
   "cell_type": "code",
   "execution_count": 1,
   "metadata": {},
   "outputs": [],
   "source": [
    "import numpy as np\n",
    "import sys"
   ]
  },
  {
   "cell_type": "code",
   "execution_count": 2,
   "metadata": {},
   "outputs": [],
   "source": [
    "directions = {\n",
    "    '^' : {'x':0,'y':-1,'replace':'|','turns':{'/'  : '>', '\\\\' : '<'}},\n",
    "    '>' : {'x':1,'y':0,'replace':'-', 'turns': {'/'  : '^', '\\\\' : 'v'}},\n",
    "    'v' : {'x':0,'y':1,'replace':'|', 'turns':{'/'  : '<','\\\\' : '>'}},\n",
    "    '<' : {'x':-1,'y':0,'replace':'-','turns':{'/'  : 'v', '\\\\' : '^'}},\n",
    "}\n",
    "\n",
    "def load(filename):\n",
    "    fo = open(filename, \"r\")\n",
    "    inpt = [l.rstrip(\"\\n\") for l in fo.readlines()]\n",
    "    \n",
    "    board = np.array([list(n) for n in inpt])\n",
    "    nboard = board.copy()\n",
    "    cars = dict()\n",
    "    for y, row in enumerate(board):\n",
    "        for x, ch in enumerate(row):\n",
    "            if ch in directions:\n",
    "                cars[(y, x)] = (ch, -1) # put the y first to enable sorting\n",
    "                nboard[y][x] = directions[ch]['replace']\n",
    "\n",
    "    return nboard, cars\n"
   ]
  },
  {
   "cell_type": "code",
   "execution_count": 3,
   "metadata": {},
   "outputs": [],
   "source": [
    "board, cars = load(\"day13sample.txt\")"
   ]
  },
  {
   "cell_type": "code",
   "execution_count": 4,
   "metadata": {
    "scrolled": true
   },
   "outputs": [],
   "source": [
    "def print_board(b, cars):\n",
    "    b = b.copy()\n",
    "    for (y, x), (ch, t) in cars.items():\n",
    "        b[y][x] = ch\n",
    "    print(\"\\n\".join([\"\".join(row) for row in b]))"
   ]
  },
  {
   "cell_type": "code",
   "execution_count": 5,
   "metadata": {},
   "outputs": [
    {
     "name": "stdout",
     "output_type": "stream",
     "text": [
      "/->-\\        \n",
      "|   |  /----\\\n",
      "| /-+--+-\\  |\n",
      "| | |  | v  |\n",
      "\\-+-/  \\-+--/\n",
      "  \\------/   \n"
     ]
    }
   ],
   "source": [
    "print_board(board, cars)"
   ]
  },
  {
   "cell_type": "code",
   "execution_count": 6,
   "metadata": {},
   "outputs": [
    {
     "name": "stdout",
     "output_type": "stream",
     "text": [
      "/->-\\        \n",
      "|   |  /----\\\n",
      "| /-+--+-\\  |\n",
      "| | |  | v  |\n",
      "\\-+-/  \\-+--/\n",
      "  \\------/   \n",
      "\n"
     ]
    }
   ],
   "source": [
    "print(open(\"day13sample.txt\", \"r\").read())"
   ]
  },
  {
   "cell_type": "code",
   "execution_count": 7,
   "metadata": {},
   "outputs": [
    {
     "data": {
      "text/plain": [
       "'/---\\\\        |   |  /----\\\\| /-+--+-\\\\  || | |  | |  |\\\\-+-/  \\\\-+--/  \\\\------/   '"
      ]
     },
     "execution_count": 7,
     "metadata": {},
     "output_type": "execute_result"
    }
   ],
   "source": [
    "\"\".join([c for row in board for c in row])"
   ]
  },
  {
   "cell_type": "code",
   "execution_count": 8,
   "metadata": {},
   "outputs": [
    {
     "data": {
      "text/plain": [
       "2"
      ]
     },
     "execution_count": 8,
     "metadata": {},
     "output_type": "execute_result"
    }
   ],
   "source": [
    "[1,2,3].index(3)\n"
   ]
  },
  {
   "cell_type": "code",
   "execution_count": 9,
   "metadata": {},
   "outputs": [],
   "source": [
    "ordered_dirs = list(directions.keys())\n",
    "\n",
    "def tick(board, cars):\n",
    "    ncars = cars.copy()\n",
    "    # let's just keep track of which points have cars in them\n",
    "    # with each tick, check if the one you're about to reach has one already\n",
    "    \n",
    "    for (y0, x0) in sorted(cars):\n",
    "        (ch, next_turn) = cars[(y0,x0)]\n",
    "\n",
    "        d = directions[ch]\n",
    "        \n",
    "        x = x0 + d['x']\n",
    "        y = y0 + d['y']\n",
    "\n",
    "        if (y0, x0) in ncars:\n",
    "            next # been collided with\n",
    "            \n",
    "        # check for collision\n",
    "        if (y,x) in ncars:\n",
    "            del ncars[(y,x)]\n",
    "            print(\"Collision!\", x,y, ncars)\n",
    "            next\n",
    "\n",
    "            \n",
    "        print(x0,y0,x,y,ch,d)\n",
    "        n = board[y][x]\n",
    "\n",
    "        if n == '+':\n",
    "            # make a decision about where to go\n",
    "            ch = ordered_dirs[(ordered_dirs.index(ch) + next_turn) % 4]\n",
    "            next_turn = (next_turn + 2) % 3 - 1\n",
    "\n",
    "        if n in ('\\\\','/'):\n",
    "            ch = d['turns'][n]\n",
    "            # change the direction we're going\n",
    "            \n",
    "        del ncars[(y0,x0)]\n",
    "        ncars[(y,x)] = (ch, next_turn)\n",
    "        \n",
    "    return ncars"
   ]
  },
  {
   "cell_type": "code",
   "execution_count": 390,
   "metadata": {},
   "outputs": [
    {
     "name": "stdout",
     "output_type": "stream",
     "text": [
      "/---\\        \n",
      "|   |  /----\\\n",
      "| v-+--+-\\  |\n",
      "| | |  | |  |\n",
      "\\-+-/  \\-+--/\n",
      "  \\------/   \n"
     ]
    }
   ],
   "source": [
    "print_board(board, cars)"
   ]
  },
  {
   "cell_type": "code",
   "execution_count": 404,
   "metadata": {},
   "outputs": [],
   "source": [
    "board, cars = load(\"day13sample.txt\")"
   ]
  },
  {
   "cell_type": "code",
   "execution_count": 405,
   "metadata": {
    "scrolled": false
   },
   "outputs": [
    {
     "name": "stdout",
     "output_type": "stream",
     "text": [
      "2 0 3 0 > {'x': 1, 'y': 0, 'replace': '-', 'turns': {'/': '^', '\\\\': 'v'}}\n",
      "9 3 9 4 v {'x': 0, 'y': 1, 'replace': '|', 'turns': {'/': '<', '\\\\': '>'}}\n",
      "/-->\\        \n",
      "|   |  /----\\\n",
      "| /-+--+-\\  |\n",
      "| | |  | |  |\n",
      "\\-+-/  \\->--/\n",
      "  \\------/   \n",
      "3 0 4 0 > {'x': 1, 'y': 0, 'replace': '-', 'turns': {'/': '^', '\\\\': 'v'}}\n",
      "9 4 10 4 > {'x': 1, 'y': 0, 'replace': '-', 'turns': {'/': '^', '\\\\': 'v'}}\n",
      "/---v        \n",
      "|   |  /----\\\n",
      "| /-+--+-\\  |\n",
      "| | |  | |  |\n",
      "\\-+-/  \\-+>-/\n",
      "  \\------/   \n",
      "4 0 4 1 v {'x': 0, 'y': 1, 'replace': '|', 'turns': {'/': '<', '\\\\': '>'}}\n",
      "10 4 11 4 > {'x': 1, 'y': 0, 'replace': '-', 'turns': {'/': '^', '\\\\': 'v'}}\n",
      "/---\\        \n",
      "|   v  /----\\\n",
      "| /-+--+-\\  |\n",
      "| | |  | |  |\n",
      "\\-+-/  \\-+->/\n",
      "  \\------/   \n",
      "4 1 4 2 v {'x': 0, 'y': 1, 'replace': '|', 'turns': {'/': '<', '\\\\': '>'}}\n",
      "11 4 12 4 > {'x': 1, 'y': 0, 'replace': '-', 'turns': {'/': '^', '\\\\': 'v'}}\n",
      "/---\\        \n",
      "|   |  /----\\\n",
      "| /->--+-\\  |\n",
      "| | |  | |  |\n",
      "\\-+-/  \\-+--^\n",
      "  \\------/   \n",
      "4 2 5 2 > {'x': 1, 'y': 0, 'replace': '-', 'turns': {'/': '^', '\\\\': 'v'}}\n",
      "12 4 12 3 ^ {'x': 0, 'y': -1, 'replace': '|', 'turns': {'/': '>', '\\\\': '<'}}\n",
      "/---\\        \n",
      "|   |  /----\\\n",
      "| /-+>-+-\\  |\n",
      "| | |  | |  ^\n",
      "\\-+-/  \\-+--/\n",
      "  \\------/   \n",
      "5 2 6 2 > {'x': 1, 'y': 0, 'replace': '-', 'turns': {'/': '^', '\\\\': 'v'}}\n",
      "12 3 12 2 ^ {'x': 0, 'y': -1, 'replace': '|', 'turns': {'/': '>', '\\\\': '<'}}\n",
      "/---\\        \n",
      "|   |  /----\\\n",
      "| /-+->+-\\  ^\n",
      "| | |  | |  |\n",
      "\\-+-/  \\-+--/\n",
      "  \\------/   \n",
      "6 2 7 2 > {'x': 1, 'y': 0, 'replace': '-', 'turns': {'/': '^', '\\\\': 'v'}}\n",
      "12 2 12 1 ^ {'x': 0, 'y': -1, 'replace': '|', 'turns': {'/': '>', '\\\\': '<'}}\n",
      "/---\\        \n",
      "|   |  /----<\n",
      "| /-+-->-\\  |\n",
      "| | |  | |  |\n",
      "\\-+-/  \\-+--/\n",
      "  \\------/   \n",
      "12 1 11 1 < {'x': -1, 'y': 0, 'replace': '-', 'turns': {'/': 'v', '\\\\': '^'}}\n",
      "7 2 8 2 > {'x': 1, 'y': 0, 'replace': '-', 'turns': {'/': '^', '\\\\': 'v'}}\n",
      "/---\\        \n",
      "|   |  /---<\\\n",
      "| /-+--+>\\  |\n",
      "| | |  | |  |\n",
      "\\-+-/  \\-+--/\n",
      "  \\------/   \n",
      "11 1 10 1 < {'x': -1, 'y': 0, 'replace': '-', 'turns': {'/': 'v', '\\\\': '^'}}\n",
      "8 2 9 2 > {'x': 1, 'y': 0, 'replace': '-', 'turns': {'/': '^', '\\\\': 'v'}}\n",
      "/---\\        \n",
      "|   |  /--<-\\\n",
      "| /-+--+-v  |\n",
      "| | |  | |  |\n",
      "\\-+-/  \\-+--/\n",
      "  \\------/   \n",
      "10 1 9 1 < {'x': -1, 'y': 0, 'replace': '-', 'turns': {'/': 'v', '\\\\': '^'}}\n",
      "9 2 9 3 v {'x': 0, 'y': 1, 'replace': '|', 'turns': {'/': '<', '\\\\': '>'}}\n",
      "/---\\        \n",
      "|   |  /-<--\\\n",
      "| /-+--+-\\  |\n",
      "| | |  | v  |\n",
      "\\-+-/  \\-+--/\n",
      "  \\------/   \n",
      "9 1 8 1 < {'x': -1, 'y': 0, 'replace': '-', 'turns': {'/': 'v', '\\\\': '^'}}\n",
      "9 3 9 4 v {'x': 0, 'y': 1, 'replace': '|', 'turns': {'/': '<', '\\\\': '>'}}\n",
      "/---\\        \n",
      "|   |  /<---\\\n",
      "| /-+--+-\\  |\n",
      "| | |  | |  |\n",
      "\\-+-/  \\-<--/\n",
      "  \\------/   \n",
      "8 1 7 1 < {'x': -1, 'y': 0, 'replace': '-', 'turns': {'/': 'v', '\\\\': '^'}}\n",
      "9 4 8 4 < {'x': -1, 'y': 0, 'replace': '-', 'turns': {'/': 'v', '\\\\': '^'}}\n",
      "/---\\        \n",
      "|   |  v----\\\n",
      "| /-+--+-\\  |\n",
      "| | |  | |  |\n",
      "\\-+-/  \\<+--/\n",
      "  \\------/   \n",
      "7 1 7 2 v {'x': 0, 'y': 1, 'replace': '|', 'turns': {'/': '<', '\\\\': '>'}}\n",
      "8 4 7 4 < {'x': -1, 'y': 0, 'replace': '-', 'turns': {'/': 'v', '\\\\': '^'}}\n",
      "/---\\        \n",
      "|   |  /----\\\n",
      "| /-+--v-\\  |\n",
      "| | |  | |  |\n",
      "\\-+-/  ^-+--/\n",
      "  \\------/   \n",
      "7 2 7 3 v {'x': 0, 'y': 1, 'replace': '|', 'turns': {'/': '<', '\\\\': '>'}}\n",
      "Collision! 7 3 {(4, 7): ('^', -1)}\n",
      "7 4 7 3 ^ {'x': 0, 'y': -1, 'replace': '|', 'turns': {'/': '>', '\\\\': '<'}}\n",
      "/---\\        \n",
      "|   |  /----\\\n",
      "| /-+--+-\\  |\n",
      "| | |  ^ |  |\n",
      "\\-+-/  \\-+--/\n",
      "  \\------/   \n",
      "7 3 7 2 ^ {'x': 0, 'y': -1, 'replace': '|', 'turns': {'/': '>', '\\\\': '<'}}\n",
      "/---\\        \n",
      "|   |  /----\\\n",
      "| /-+--<-\\  |\n",
      "| | |  | |  |\n",
      "\\-+-/  \\-+--/\n",
      "  \\------/   \n",
      "7 2 6 2 < {'x': -1, 'y': 0, 'replace': '-', 'turns': {'/': 'v', '\\\\': '^'}}\n",
      "/---\\        \n",
      "|   |  /----\\\n",
      "| /-+-<+-\\  |\n",
      "| | |  | |  |\n",
      "\\-+-/  \\-+--/\n",
      "  \\------/   \n",
      "6 2 5 2 < {'x': -1, 'y': 0, 'replace': '-', 'turns': {'/': 'v', '\\\\': '^'}}\n",
      "/---\\        \n",
      "|   |  /----\\\n",
      "| /-+<-+-\\  |\n",
      "| | |  | |  |\n",
      "\\-+-/  \\-+--/\n",
      "  \\------/   \n",
      "5 2 4 2 < {'x': -1, 'y': 0, 'replace': '-', 'turns': {'/': 'v', '\\\\': '^'}}\n",
      "/---\\        \n",
      "|   |  /----\\\n",
      "| /-<--+-\\  |\n",
      "| | |  | |  |\n",
      "\\-+-/  \\-+--/\n",
      "  \\------/   \n",
      "4 2 3 2 < {'x': -1, 'y': 0, 'replace': '-', 'turns': {'/': 'v', '\\\\': '^'}}\n",
      "/---\\        \n",
      "|   |  /----\\\n",
      "| /<+--+-\\  |\n",
      "| | |  | |  |\n",
      "\\-+-/  \\-+--/\n",
      "  \\------/   \n",
      "3 2 2 2 < {'x': -1, 'y': 0, 'replace': '-', 'turns': {'/': 'v', '\\\\': '^'}}\n",
      "/---\\        \n",
      "|   |  /----\\\n",
      "| v-+--+-\\  |\n",
      "| | |  | |  |\n",
      "\\-+-/  \\-+--/\n",
      "  \\------/   \n"
     ]
    }
   ],
   "source": [
    "for i in range(20):\n",
    "    cars = tick(board, cars)\n",
    "    print_board(board, cars)\n"
   ]
  }
 ],
 "metadata": {
  "kernelspec": {
   "display_name": "Python 3",
   "language": "python",
   "name": "python3"
  },
  "language_info": {
   "codemirror_mode": {
    "name": "ipython",
    "version": 3
   },
   "file_extension": ".py",
   "mimetype": "text/x-python",
   "name": "python",
   "nbconvert_exporter": "python",
   "pygments_lexer": "ipython3",
   "version": "3.7.3"
  }
 },
 "nbformat": 4,
 "nbformat_minor": 2
}
